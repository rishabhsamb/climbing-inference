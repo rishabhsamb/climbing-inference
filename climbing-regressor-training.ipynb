{
 "cells": [
  {
   "cell_type": "code",
   "execution_count": 1,
   "id": "45c01a89",
   "metadata": {},
   "outputs": [],
   "source": [
    "from preprocessing import data_from_sql, preprocess_users, preprocess_ascents, merge_user_ascents"
   ]
  },
  {
   "cell_type": "code",
   "execution_count": 2,
   "id": "fb07713a",
   "metadata": {},
   "outputs": [],
   "source": [
    "df_user, df_ascent, df_grade = data_from_sql(\"./database.sqlite\")\n",
    "df_user_preprocessed = preprocess_users(df_user)\n",
    "df_ascents_preprocessed = preprocess_ascents(df_ascent, df_grade)\n",
    "data = merge_user_ascents(df_user_preprocessed, df_ascents_preprocessed)"
   ]
  },
  {
   "cell_type": "code",
   "execution_count": 3,
   "id": "2662f77f",
   "metadata": {},
   "outputs": [],
   "source": [
    "from sklearn.model_selection import train_test_split\n",
    "from sklearn.preprocessing import StandardScaler\n",
    "from sklearn.neighbors import KNeighborsRegressor\n",
    "from sklearn.tree import DecisionTreeRegressor\n",
    "from sklearn.ensemble import RandomForestRegressor\n",
    "from sklearn.linear_model import LinearRegression\n",
    "import numpy as np"
   ]
  },
  {
   "cell_type": "code",
   "execution_count": 4,
   "id": "43bd1667",
   "metadata": {},
   "outputs": [],
   "source": [
    "scaler = StandardScaler()\n",
    "normalized_data = scaler.fit_transform(data)\n",
    "X = normalized_data[:, 0:47]\n",
    "y = np.array(data['usa_boulders'])\n",
    "X_train, X_test, y_train, y_test = train_test_split(X,y, train_size=0.8, random_state=1729)"
   ]
  },
  {
   "cell_type": "code",
   "execution_count": 5,
   "id": "a9077a42",
   "metadata": {},
   "outputs": [
    {
     "data": {
      "text/plain": [
       "LinearRegression()"
      ]
     },
     "execution_count": 5,
     "metadata": {},
     "output_type": "execute_result"
    }
   ],
   "source": [
    "linear_regression = LinearRegression()\n",
    "linear_regression.fit(X_train, y_train)"
   ]
  },
  {
   "cell_type": "code",
   "execution_count": 6,
   "id": "d80b7775",
   "metadata": {},
   "outputs": [
    {
     "data": {
      "text/plain": [
       "KNeighborsRegressor(n_neighbors=10, weights='distance')"
      ]
     },
     "execution_count": 6,
     "metadata": {},
     "output_type": "execute_result"
    }
   ],
   "source": [
    "n = 10 # default value\n",
    "weights_strategy = 'distance' # default value\n",
    "k_neighbors_regression = KNeighborsRegressor(n_neighbors=n, weights=weights_strategy)\n",
    "k_neighbors_regression.fit(X_train, y_train)"
   ]
  },
  {
   "cell_type": "code",
   "execution_count": 7,
   "id": "423c628f",
   "metadata": {},
   "outputs": [
    {
     "data": {
      "text/plain": [
       "DecisionTreeRegressor(random_state=1729)"
      ]
     },
     "execution_count": 7,
     "metadata": {},
     "output_type": "execute_result"
    }
   ],
   "source": [
    "split = 'best' # default value\n",
    "depth = None # default value\n",
    "decision_tree_regression = DecisionTreeRegressor(splitter=split, max_depth=depth, random_state=1729)\n",
    "decision_tree_regression.fit(X_train, y_train)"
   ]
  },
  {
   "cell_type": "code",
   "execution_count": 8,
   "id": "568ba9ca",
   "metadata": {},
   "outputs": [
    {
     "data": {
      "text/plain": [
       "RandomForestRegressor(random_state=1729)"
      ]
     },
     "execution_count": 8,
     "metadata": {},
     "output_type": "execute_result"
    }
   ],
   "source": [
    "estimators = 100 # default value\n",
    "forest_depth = None # default value\n",
    "random_forest_regression = RandomForestRegressor(n_estimators=estimators, max_depth=forest_depth, random_state=1729)\n",
    "random_forest_regression.fit(X_train, y_train)"
   ]
  },
  {
   "cell_type": "code",
   "execution_count": 9,
   "id": "2e1a0919",
   "metadata": {},
   "outputs": [
    {
     "name": "stdout",
     "output_type": "stream",
     "text": [
      "lr sample predictions:\n",
      "    predicted: 7.021088890731335, actual: 4\n",
      "    predicted: 7.032462164759636, actual: 9\n",
      "    predicted: 6.385402277112007, actual: 7\n",
      "    predicted: 6.17591005563736, actual: 7\n",
      "    predicted: 6.229790911078453, actual: 6\n",
      "    predicted: 7.884444415569305, actual: 6\n",
      "    predicted: 7.656293630599976, actual: 10\n",
      "    predicted: 6.460587799549103, actual: 9\n",
      "    predicted: 8.24574188888073, actual: 10\n",
      "    predicted: 6.934314377605915, actual: 8\n",
      "lr regression MSE is 4.9687926068259095e+19\n",
      "knn sample predictions:\n",
      "    predicted: 4.0, actual: 4\n",
      "    predicted: 6.001189884323705, actual: 9\n",
      "    predicted: 6.204312274109646, actual: 7\n",
      "    predicted: 6.512094191178554, actual: 7\n",
      "    predicted: 7.99999649951221, actual: 6\n",
      "    predicted: 7.0087383847506555, actual: 6\n",
      "    predicted: 7.75, actual: 10\n",
      "    predicted: 8.499996781088557, actual: 9\n",
      "    predicted: 8.738706061989685, actual: 10\n",
      "    predicted: 8.271010328797058, actual: 8\n",
      "knn regression MSE is 5.415545973752853\n",
      "dtree sample predictions:\n",
      "    predicted: 4.0, actual: 4\n",
      "    predicted: 10.0, actual: 9\n",
      "    predicted: 8.0, actual: 7\n",
      "    predicted: 6.0, actual: 7\n",
      "    predicted: 8.0, actual: 6\n",
      "    predicted: 10.0, actual: 6\n",
      "    predicted: 7.75, actual: 10\n",
      "    predicted: 8.5, actual: 9\n",
      "    predicted: 10.0, actual: 10\n",
      "    predicted: 10.0, actual: 8\n",
      "dtree regression MSE is 7.696701034404838\n",
      "rforest sample predictions:\n",
      "    predicted: 4.75, actual: 4\n",
      "    predicted: 7.435, actual: 9\n",
      "    predicted: 6.4975, actual: 7\n",
      "    predicted: 7.126666666666666, actual: 7\n",
      "    predicted: 7.552, actual: 6\n",
      "    predicted: 8.052999999999999, actual: 6\n",
      "    predicted: 7.865166666666668, actual: 10\n",
      "    predicted: 8.528023809523809, actual: 9\n",
      "    predicted: 9.316666666666666, actual: 10\n",
      "    predicted: 8.66, actual: 8\n",
      "rforest regression MSE is 5.024652764429153\n"
     ]
    }
   ],
   "source": [
    "from sklearn.metrics import mean_squared_error\n",
    "\n",
    "regressor_dict = {'lr':linear_regression, \n",
    "                  'knn': k_neighbors_regression, \n",
    "                  'dtree': decision_tree_regression, \n",
    "                  'rforest': random_forest_regression}\n",
    "\n",
    "for key in regressor_dict:\n",
    "    y_pred = regressor_dict[key].predict(X_test)\n",
    "    MSE = mean_squared_error(y_test, y_pred)\n",
    "\n",
    "    print(f\"{key} sample predictions:\")\n",
    "    for k in range(10):\n",
    "        print(f\"    predicted: {y_pred[k]}, actual: {y_test[k]}\")\n",
    "    print(f\"{key} regression MSE is {MSE}\")"
   ]
  }
 ],
 "metadata": {
  "kernelspec": {
   "display_name": "Python 3 (ipykernel)",
   "language": "python",
   "name": "python3"
  },
  "language_info": {
   "codemirror_mode": {
    "name": "ipython",
    "version": 3
   },
   "file_extension": ".py",
   "mimetype": "text/x-python",
   "name": "python",
   "nbconvert_exporter": "python",
   "pygments_lexer": "ipython3",
   "version": "3.9.9"
  }
 },
 "nbformat": 4,
 "nbformat_minor": 5
}
